{
 "cells": [
  {
   "cell_type": "markdown",
   "metadata": {},
   "source": [
    "# Lab Assignment 6\n",
    "This is part 3 of the dashboard session. The goal is to make an interactive dashboard with recruiters in mind as the audience. I decided to focus on the following three metrics: <br>\n",
    "1)Skill set<br>\n",
    "2)Work experience<br>\n",
    "3)Program ranking<br><br>\n",
    "\n",
    "The visualization will utilize a cognitive walkthrough to assist recruiters in making the decision that the MSIS program at Santa Clara University has the candidates best meet their needs for a job position.<br>\n",
    "\n",
    "The recruiter will first evaluate if the candidate has had training with the data skill they have in mind, then the recruiter will if they have prior work experience in the industry, as well as the average age of candidate. The age might sometimes be considered as a factor, since maturity is often linked with a person's problem solving skills and some soft skills like if they work will with others and how they handle certain situations that might come up in the workplace. Finally, once the recuiter finds the candidate matching the required skills and prior work experience, they can make the final decision by looking at the quality of education received and the reputation of the school in the industry; this will be accomplished by showing first the overall ranking of the school in California, then the recruiter can also elect to see the ranking of the program in California.<br>\n",
    "\n",
    "The other school chosen for comparison is University of San Francisco, where the Master of Science in Information Systems is very similar to SCU's. However, class profile information on years of prior work experience was not available, thus, to show practical or hands-on experiene experience, I chose to map the different capstone project options available to students from both programs."
   ]
  },
  {
   "cell_type": "markdown",
   "metadata": {},
   "source": [
    "## 1. Top Data Skills of 2016: <br>\n",
    "I used the same set of data (Top Skills of 2016 from Linkedin) from last week's lab, but this time, I filtered out other skills not data-related, as well as kept some skills which SCU MSIS program offered courses in. Put sided by side with the program at SFU, this made the SCU program look very favorable and diverse in terms in terms of courses offered. Below is the final filtered dataset."
   ]
  },
  {
   "cell_type": "code",
   "execution_count": 2,
   "metadata": {
    "ExecuteTime": {
     "end_time": "2017-10-27T22:13:54.615854Z",
     "start_time": "2017-10-27T22:13:54.436061Z"
    },
    "scrolled": true
   },
   "outputs": [
    {
     "data": {
      "text/html": [
       "<div>\n",
       "<style>\n",
       "    .dataframe thead tr:only-child th {\n",
       "        text-align: right;\n",
       "    }\n",
       "\n",
       "    .dataframe thead th {\n",
       "        text-align: left;\n",
       "    }\n",
       "\n",
       "    .dataframe tbody tr th {\n",
       "        vertical-align: top;\n",
       "    }\n",
       "</style>\n",
       "<table border=\"1\" class=\"dataframe\">\n",
       "  <thead>\n",
       "    <tr style=\"text-align: right;\">\n",
       "      <th></th>\n",
       "      <th>Skill</th>\n",
       "      <th>SCU</th>\n",
       "      <th>SFU</th>\n",
       "    </tr>\n",
       "  </thead>\n",
       "  <tbody>\n",
       "    <tr>\n",
       "      <th>0</th>\n",
       "      <td>Cloud Distributed Computing</td>\n",
       "      <td>✓</td>\n",
       "      <td>✗</td>\n",
       "    </tr>\n",
       "    <tr>\n",
       "      <th>1</th>\n",
       "      <td>Statistical Analysis &amp; Data Mining</td>\n",
       "      <td>✓</td>\n",
       "      <td>✓</td>\n",
       "    </tr>\n",
       "    <tr>\n",
       "      <th>2</th>\n",
       "      <td>Web Architecture and Development Framework</td>\n",
       "      <td>✓</td>\n",
       "      <td>✗</td>\n",
       "    </tr>\n",
       "    <tr>\n",
       "      <th>3</th>\n",
       "      <td>Network and Information Security</td>\n",
       "      <td>✓</td>\n",
       "      <td>✓</td>\n",
       "    </tr>\n",
       "    <tr>\n",
       "      <th>4</th>\n",
       "      <td>Mobile Development</td>\n",
       "      <td>✓</td>\n",
       "      <td>✗</td>\n",
       "    </tr>\n",
       "    <tr>\n",
       "      <th>5</th>\n",
       "      <td>Data Presentation</td>\n",
       "      <td>✓</td>\n",
       "      <td>✗</td>\n",
       "    </tr>\n",
       "    <tr>\n",
       "      <th>6</th>\n",
       "      <td>Overall Top Data Skills</td>\n",
       "      <td>6 out of 6</td>\n",
       "      <td>2 out of 6</td>\n",
       "    </tr>\n",
       "  </tbody>\n",
       "</table>\n",
       "</div>"
      ],
      "text/plain": [
       "                                        Skill         SCU         SFU\n",
       "0                 Cloud Distributed Computing           ✓           ✗\n",
       "1          Statistical Analysis & Data Mining           ✓           ✓\n",
       "2  Web Architecture and Development Framework           ✓           ✗\n",
       "3            Network and Information Security           ✓           ✓\n",
       "4                          Mobile Development           ✓           ✗\n",
       "5                           Data Presentation           ✓           ✗\n",
       "6                     Overall Top Data Skills  6 out of 6  2 out of 6"
      ]
     },
     "execution_count": 2,
     "metadata": {},
     "output_type": "execute_result"
    }
   ],
   "source": [
    "import pandas as pd\n",
    "\n",
    "# load data\n",
    "df = pd.read_csv('lab6skills.csv', delimiter=',')\n",
    "df"
   ]
  },
  {
   "cell_type": "markdown",
   "metadata": {},
   "source": [
    "## 2. Capstone Project Options: <br>\n",
    "For this table, I mostly wanted to show that the program at SCU gave its students more options when it comes to capstone projects; a big factor for me when chosing program was the practical and hands-on components of the capstone options. For recruiters, they can get a rough idea of which school is giving their students the opportunity to put their acquired skills into practice. Below is the data used:"
   ]
  },
  {
   "cell_type": "code",
   "execution_count": 3,
   "metadata": {
    "ExecuteTime": {
     "end_time": "2017-10-27T22:31:20.613417Z",
     "start_time": "2017-10-27T22:31:20.562213Z"
    }
   },
   "outputs": [
    {
     "data": {
      "text/html": [
       "<div>\n",
       "<style>\n",
       "    .dataframe thead tr:only-child th {\n",
       "        text-align: right;\n",
       "    }\n",
       "\n",
       "    .dataframe thead th {\n",
       "        text-align: left;\n",
       "    }\n",
       "\n",
       "    .dataframe tbody tr th {\n",
       "        vertical-align: top;\n",
       "    }\n",
       "</style>\n",
       "<table border=\"1\" class=\"dataframe\">\n",
       "  <thead>\n",
       "    <tr style=\"text-align: right;\">\n",
       "      <th></th>\n",
       "      <th>Capstone Options</th>\n",
       "      <th>SCU</th>\n",
       "      <th>SFU</th>\n",
       "    </tr>\n",
       "  </thead>\n",
       "  <tbody>\n",
       "    <tr>\n",
       "      <th>0</th>\n",
       "      <td>Industry Project</td>\n",
       "      <td>✓</td>\n",
       "      <td>✗</td>\n",
       "    </tr>\n",
       "    <tr>\n",
       "      <th>1</th>\n",
       "      <td>Design Project</td>\n",
       "      <td>✓</td>\n",
       "      <td>✗</td>\n",
       "    </tr>\n",
       "    <tr>\n",
       "      <th>2</th>\n",
       "      <td>Thesis</td>\n",
       "      <td>✓</td>\n",
       "      <td>✗</td>\n",
       "    </tr>\n",
       "    <tr>\n",
       "      <th>3</th>\n",
       "      <td>Analytic Study</td>\n",
       "      <td>✗</td>\n",
       "      <td>✓</td>\n",
       "    </tr>\n",
       "    <tr>\n",
       "      <th>4</th>\n",
       "      <td>Overall Availability</td>\n",
       "      <td>3 out of 4</td>\n",
       "      <td>1 out of 4</td>\n",
       "    </tr>\n",
       "  </tbody>\n",
       "</table>\n",
       "</div>"
      ],
      "text/plain": [
       "       Capstone Options         SCU         SFU\n",
       "0      Industry Project           ✓           ✗\n",
       "1        Design Project           ✓           ✗\n",
       "2                Thesis           ✓           ✗\n",
       "3        Analytic Study           ✗           ✓\n",
       "4  Overall Availability  3 out of 4  1 out of 4"
      ]
     },
     "execution_count": 3,
     "metadata": {},
     "output_type": "execute_result"
    }
   ],
   "source": [
    "\n",
    "df = pd.read_csv('lab6capstone.csv', delimiter=',')\n",
    "df"
   ]
  },
  {
   "cell_type": "markdown",
   "metadata": {},
   "source": [
    "## 3. University Ranking: <br>\n",
    "My initial idea was having a graph which combines both overall ranking of all California colleges and MSIS program ranking of California colleges. However, after playing around with the data, I found that by listing all schools in the rank not only made the graphs harder to read, it also weakened my argument that SCU was clearly the better choice when it comes to MSIS programs; SCU was somewhere around the middle in the program ranking, if I had showed the entire list, it didn't make the program as enticing as just showing a general placement of it beside another similar but less superior program. I finally just took the two schools' ranking I was comparing and put them side by side. The final filtered down data is shown below:"
   ]
  },
  {
   "cell_type": "code",
   "execution_count": 4,
   "metadata": {
    "ExecuteTime": {
     "end_time": "2017-10-27T22:37:06.789570Z",
     "start_time": "2017-10-27T22:37:06.748057Z"
    }
   },
   "outputs": [
    {
     "data": {
      "text/html": [
       "<div>\n",
       "<style>\n",
       "    .dataframe thead tr:only-child th {\n",
       "        text-align: right;\n",
       "    }\n",
       "\n",
       "    .dataframe thead th {\n",
       "        text-align: left;\n",
       "    }\n",
       "\n",
       "    .dataframe tbody tr th {\n",
       "        vertical-align: top;\n",
       "    }\n",
       "</style>\n",
       "<table border=\"1\" class=\"dataframe\">\n",
       "  <thead>\n",
       "    <tr style=\"text-align: right;\">\n",
       "      <th></th>\n",
       "      <th>College</th>\n",
       "      <th>Rank Type</th>\n",
       "      <th>Rank</th>\n",
       "    </tr>\n",
       "  </thead>\n",
       "  <tbody>\n",
       "    <tr>\n",
       "      <th>0</th>\n",
       "      <td>Santa Clara University</td>\n",
       "      <td>Overall Ranking</td>\n",
       "      <td>10</td>\n",
       "    </tr>\n",
       "    <tr>\n",
       "      <th>1</th>\n",
       "      <td>Santa Clara University</td>\n",
       "      <td>MSIS Program Ranking</td>\n",
       "      <td>5</td>\n",
       "    </tr>\n",
       "    <tr>\n",
       "      <th>2</th>\n",
       "      <td>San Franciscio University</td>\n",
       "      <td>Overall Ranking</td>\n",
       "      <td>40</td>\n",
       "    </tr>\n",
       "    <tr>\n",
       "      <th>3</th>\n",
       "      <td>San Franciscio University</td>\n",
       "      <td>MSIS Program Ranking</td>\n",
       "      <td>6</td>\n",
       "    </tr>\n",
       "  </tbody>\n",
       "</table>\n",
       "</div>"
      ],
      "text/plain": [
       "                     College             Rank Type  Rank\n",
       "0     Santa Clara University       Overall Ranking    10\n",
       "1     Santa Clara University  MSIS Program Ranking     5\n",
       "2  San Franciscio University       Overall Ranking    40\n",
       "3  San Franciscio University  MSIS Program Ranking     6"
      ]
     },
     "execution_count": 4,
     "metadata": {},
     "output_type": "execute_result"
    }
   ],
   "source": [
    "df = pd.read_csv('lab6duoRank.csv', delimiter=',')\n",
    "df"
   ]
  },
  {
   "cell_type": "markdown",
   "metadata": {},
   "source": [
    "## Discussion <br>\n",
    "\n",
    "Published Dashboard:__[Link](https://public.tableau.com/views/Lab6MSISintheBayAreaDashboard/Dashboard1?:embed=y&:display_count=yes&publish=yes)__<br> \n",
    "\n",
    "<img src=\"files/images/lab6dashboard.png\"width=\"60%\"><br>\n",
    "**See Github Read Me for write up**\n"
   ]
  },
  {
   "cell_type": "markdown",
   "metadata": {},
   "source": [
    "### Resources Used:<br>\n",
    "Best Colleges in California: Data downloaded from class data folder __[Link](https://drive.google.com/open?id=0BzDtOOgjkAWUYzJzbGphc3JKNG8)__<br>\n",
    "Best Information Systems Colleges in California: __[Link](https://www.universities.com/find/california/best/computer-technology/information-systems)__<br>\n",
    "Top Skills of 2016 by Linkedin: __[Link](https://learning.linkedin.com/week-of-learning/top-skills)__<br>\n",
    "MSIS Curriculum Info: __[List of Courses](https://www.scu.edu/business/graduates/bulletin/programs-and-admissions/course-descriptions/master-of-science-in-information-systems/)__<br>\n",
    "University of San Francisco: __[Master of Science in Information Systems Program Requirements](https://www.usfca.edu/catalog/graduate/school-of-management/master-of-science-information-systems)__<br>\n",
    "\n",
    "\n"
   ]
  }
 ],
 "metadata": {
  "kernelspec": {
   "display_name": "Python 3",
   "language": "python",
   "name": "python3"
  },
  "language_info": {
   "codemirror_mode": {
    "name": "ipython",
    "version": 3
   },
   "file_extension": ".py",
   "mimetype": "text/x-python",
   "name": "python",
   "nbconvert_exporter": "python",
   "pygments_lexer": "ipython3",
   "version": "3.6.2"
  },
  "toc": {
   "nav_menu": {},
   "number_sections": true,
   "sideBar": true,
   "skip_h1_title": false,
   "toc_cell": false,
   "toc_position": {},
   "toc_section_display": "block",
   "toc_window_display": false
  },
  "varInspector": {
   "cols": {
    "lenName": 16,
    "lenType": 16,
    "lenVar": 40
   },
   "kernels_config": {
    "python": {
     "delete_cmd_postfix": "",
     "delete_cmd_prefix": "del ",
     "library": "var_list.py",
     "varRefreshCmd": "print(var_dic_list())"
    },
    "r": {
     "delete_cmd_postfix": ") ",
     "delete_cmd_prefix": "rm(",
     "library": "var_list.r",
     "varRefreshCmd": "cat(var_dic_list()) "
    }
   },
   "types_to_exclude": [
    "module",
    "function",
    "builtin_function_or_method",
    "instance",
    "_Feature"
   ],
   "window_display": false
  }
 },
 "nbformat": 4,
 "nbformat_minor": 2
}
